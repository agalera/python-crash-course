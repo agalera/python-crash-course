{
 "cells": [
  {
   "cell_type": "markdown",
   "metadata": {},
   "source": [
    "# Python Fundamentals\n",
    "\n",
    "## Anatomy of your very simple first script\n"
   ]
  },
  {
   "cell_type": "code",
   "execution_count": null,
   "metadata": {
    "collapsed": true
   },
   "outputs": [],
   "source": [
    "#!/usr/bin/env python\n",
    "\n",
    "def main():\n",
    "    print(\"Hello World!\")\n",
    "\n",
    "if __name__ == '__main__':\n",
    "    main()\n"
   ]
  },
  {
   "cell_type": "markdown",
   "metadata": {
    "collapsed": true
   },
   "source": [
    "1. Shebang: /usr/bin/python2 or /usr/bin/python3\n",
    "2. main function\n",
    "3. What the heck is `__name__` or `__file__` ? Snake charmers"
   ]
  },
  {
   "cell_type": "markdown",
   "metadata": {
    "collapsed": true
   },
   "source": [
    "Adding parameters to your script ...\n",
    "Your first imports and function parameters: \\*args, \\*\\*kwargs\n",
    "\n",
    "`$ python hello_montoya.py \"Hello\" \"My name is Iñigo Montoya\" \"You killed my father\" \"Prepare to Die\"`\n",
    "\n",
    "### Encoding\n",
    "\n",
    "Check out [How to unicode](https://docs.python.org/2/howto/unicode.html)\n",
    "\n",
    "*Brief history*\n",
    "\n",
    "ASCII (American Standard Code for Information Interexchange) 1968.\n",
    "English alphabet took the conversion of a letter to a digit, between 0-127.\n",
    "Mid 1980's computers -> 8-bit (0-255)\n",
    "But what happens to accents? cyrilic alphabets? French (Latin1 or ISO-8859-1) Russian (KOI8)?\n",
    "*UNICODE* Standarization with 16-bit (2^16 = 65.535 distinct values)\n",
    "\n",
    "*Definitions*\n",
    "\n",
    "> Character: smallest component of text (\"A\", \"É\")\n",
    "> Unicode: *code points*: integer value usually denoted in base 16\n",
    "> Unicode string: Serie of code points from 0 to 0x010ffff.\n",
    "> Unicode scapes:\n",
    "- \\xhh -> \\xf1 == ñ\n",
    "- \\uhhhh ->\n",
    "- \\Uhhhhhhhh\n",
    "> Encoding: translates a unicode string sequence of bytes\n",
    "\n",
    "Comment -*- X: Y -*- (inspired by Emacs)\n",
    "\n",
    "`# -*- coding: latin-1 -*-`\n",
    "In Python 3 the default encoding: UTF-8\n",
    "All strings \"buenos dias\" 'hyvää huomenta' \"\"\"おはようございます\"\"\" are unicode\n",
    "\n"
   ]
  },
  {
   "cell_type": "code",
   "execution_count": 1,
   "metadata": {},
   "outputs": [
    {
     "name": "stdout",
     "output_type": "stream",
     "text": [
      "(['/home/miguel/.virtualenvs/pcc/lib/python2.7/site-packages/ipykernel_launcher.py', '-f', '/run/user/1000/jupyter/kernel-5e33a56d-0aa6-465a-85a6-55f9c11ae881.json'],)\n",
      "{}\n"
     ]
    }
   ],
   "source": [
    "#!/usr/bin/env python\n",
    "# -*- coding: utf-8 -*-\n",
    "\n",
    "import sys\n",
    "\n",
    "def main(*args, **kwargs):\n",
    "    \"\"\"Simple main function that prints stuff\"\"\"\n",
    "    print(args)  # args is a tuple of positional params\n",
    "    print(kwargs) # kwargs is a dict with keyword params\n",
    "    ## The names are just a mere convention\n",
    "\n",
    "if __name__ == '__main__':\n",
    "    main(sys.argv)  # input params from the command line\n"
   ]
  },
  {
   "cell_type": "markdown",
   "metadata": {},
   "source": []
  },
  {
   "cell_type": "markdown",
   "metadata": {
    "collapsed": true
   },
   "source": [
    "## Types\n",
    "\n",
    "Mutable / Immutable Objects\n",
    "\n",
    "Some immutable types:\n",
    "\n",
    "    int, float, long, complex\n",
    "    str\n",
    "    bytes\n",
    "    tuple\n",
    "    frozen set\n",
    "\n",
    "Some mutable types:\n",
    "\n",
    "    byte array\n",
    "    list\n",
    "    set\n",
    "    dict\n",
    "\n",
    "\n"
   ]
  },
  {
   "cell_type": "code",
   "execution_count": 7,
   "metadata": {},
   "outputs": [
    {
     "name": "stdout",
     "output_type": "stream",
     "text": [
      "set(['beer', 'books', 'music', 'arts', 'skateboarding'])\n"
     ]
    }
   ],
   "source": [
    "# Immutable Objects\n",
    "\n",
    "age = 27 # int\n",
    "weight = 77.8  # float\n",
    "infinite = float('inf')\n",
    "name = \"Miguel\" # basestring/str\n",
    "last_names = (\"Garcia\", \"Rodriguez\") # tuple\n",
    "principles = frozenset((\"respect\", \"love\", \"development\", \"equality\", \"freedom\"))\n",
    "\n",
    "# Mutable Objects\n",
    "interests = ['music', 'books', 'skateboarding', 'beer', 'arts']\n",
    "info = {\n",
    "    \"name\": name,\n",
    "    \"last_names\": last_names,\n",
    "    \"age\": age\n",
    "}\n",
    "redundant = set(interests)\n",
    "print(redundant)"
   ]
  },
  {
   "cell_type": "code",
   "execution_count": null,
   "metadata": {
    "collapsed": true
   },
   "outputs": [],
   "source": []
  }
 ],
 "metadata": {
  "kernelspec": {
   "display_name": "Python 2",
   "language": "python",
   "name": "python2"
  },
  "language_info": {
   "codemirror_mode": {
    "name": "ipython",
    "version": 2
   },
   "file_extension": ".py",
   "mimetype": "text/x-python",
   "name": "python",
   "nbconvert_exporter": "python",
   "pygments_lexer": "ipython2",
   "version": "2.7.13"
  }
 },
 "nbformat": 4,
 "nbformat_minor": 2
}
