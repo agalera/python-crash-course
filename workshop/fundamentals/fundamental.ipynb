{
 "cells": [
  {
   "cell_type": "markdown",
   "metadata": {},
   "source": [
    "# Python Fundamentals\n",
    "\n",
    "## Anatomy of your very simple first script\n"
   ]
  },
  {
   "cell_type": "code",
   "execution_count": null,
   "metadata": {
    "collapsed": true
   },
   "outputs": [],
   "source": [
    "#!/usr/bin/env python\n",
    "\n",
    "def main():\n",
    "    print(\"Hello World!\")\n",
    "\n",
    "if __name__ == '__main__':\n",
    "    main()\n"
   ]
  },
  {
   "cell_type": "markdown",
   "metadata": {
    "collapsed": true
   },
   "source": [
    "1. Shebang\n",
    "2. main function\n",
    "3. What the heck is `__name__` or `__file__` ?"
   ]
  },
  {
   "cell_type": "markdown",
   "metadata": {
    "collapsed": true
   },
   "source": [
    "Adding parameters to your script ...\n",
    "Your first imports and function parameters: \\*args, \\*\\*kwargs\n",
    "\n",
    "`$ python hello_world.py \"It's me Adele\" \"Bye bye\"`"
   ]
  },
  {
   "cell_type": "code",
   "execution_count": 4,
   "metadata": {},
   "outputs": [
    {
     "name": "stdout",
     "output_type": "stream",
     "text": [
      "Hello World!\n",
      "(['/home/mgarcia/.virtualenvs/pcc/lib/python2.7/site-packages/ipykernel_launcher.py', '-f', '/run/user/1000/jupyter/kernel-91b6c1bb-0e5e-4646-b247-fe26d7e81257.json'],)\n",
      "{}\n"
     ]
    }
   ],
   "source": [
    "#!/usr/bin/env python\n",
    "import sys\n",
    "\n",
    "# Inline comment\n",
    "def main(*args, **kwargs):\n",
    "    \"\"\"Simple main function that prints stuff\"\"\"\n",
    "    print(\"Hello World!\")\n",
    "    print(args)\n",
    "    print(kwargs)\n",
    "\n",
    "if __name__ == '__main__':\n",
    "    main(sys.argv)\n"
   ]
  },
  {
   "cell_type": "markdown",
   "metadata": {
    "collapsed": true
   },
   "source": [
    "## Data types\n",
    "\n",
    "Mutable / Immutable Objects\n",
    "\n",
    "Some immutable types:\n",
    "\n",
    "    int, float, long, complex\n",
    "    str\n",
    "    bytes\n",
    "    tuple\n",
    "    frozen set\n",
    "\n",
    "Some mutable types:\n",
    "\n",
    "    byte array\n",
    "    list\n",
    "    set\n",
    "    dict\n",
    "\n",
    "\n"
   ]
  },
  {
   "cell_type": "code",
   "execution_count": null,
   "metadata": {
    "collapsed": true
   },
   "outputs": [],
   "source": []
  }
 ],
 "metadata": {
  "kernelspec": {
   "display_name": "Python 2",
   "language": "python",
   "name": "python2"
  },
  "language_info": {
   "codemirror_mode": {
    "name": "ipython",
    "version": 2
   },
   "file_extension": ".py",
   "mimetype": "text/x-python",
   "name": "python",
   "nbconvert_exporter": "python",
   "pygments_lexer": "ipython2",
   "version": "2.7.13"
  }
 },
 "nbformat": 4,
 "nbformat_minor": 2
}
